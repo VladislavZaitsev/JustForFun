{
  "cells": [
    {
      "cell_type": "markdown",
      "metadata": {
        "id": "view-in-github",
        "colab_type": "text"
      },
      "source": [
        "<a href=\"https://colab.research.google.com/github/VladislavZaitsev/JustForFun/blob/main/ChGK_statistics.ipynb\" target=\"_parent\"><img src=\"https://colab.research.google.com/assets/colab-badge.svg\" alt=\"Open In Colab\"/></a>"
      ]
    },
    {
      "cell_type": "markdown",
      "metadata": {
        "id": "7E2CeT1E9btb"
      },
      "source": [
        "# ChGK statistics"
      ]
    },
    {
      "cell_type": "markdown",
      "metadata": {
        "id": "7390qVVB9iFA"
      },
      "source": [
        "The aim is to identify top-10 players a person has played with and show the statistics."
      ]
    },
    {
      "cell_type": "markdown",
      "metadata": {
        "id": "cEFyYxb49-TD"
      },
      "source": [
        "## 1. Functions"
      ]
    },
    {
      "cell_type": "code",
      "execution_count": 1,
      "metadata": {
        "id": "LZATDIak8vXm"
      },
      "outputs": [],
      "source": [
        "import pandas as pd\n",
        "import seaborn as sns\n",
        "import matplotlib.pyplot as plt"
      ]
    },
    {
      "cell_type": "code",
      "execution_count": 2,
      "metadata": {
        "id": "24_8j-pzJk9V"
      },
      "outputs": [],
      "source": [
        "# The current structure of the team\n",
        "\n",
        "def team_players(team_id):\n",
        "  team_url = f'https://api.rating.chgk.net/teams/{team_id}/seasons?page=1&itemsPerPage=1000' # parsing\n",
        "  df_team = pd.read_json(team_url)\n",
        "  df_team = df_team[df_team['idseason']==df_team['idseason'].max()] # the current (max) season\n",
        "\n",
        "  idplayer_list = df_team['idplayer'].tolist()\n",
        "  return idplayer_list # the list of the players"
      ]
    },
    {
      "cell_type": "code",
      "execution_count": 3,
      "metadata": {
        "id": "nhm7BwFvBKCg"
      },
      "outputs": [],
      "source": [
        "def chgk_player(num):\n",
        "\n",
        "  # The list of all the teams and tournaments for 1 player\n",
        "  url_player = f'https://api.rating.chgk.net/players/{num}/tournaments?page=1&itemsPerPage=10000'\n",
        "  df = pd.read_json(url_player)\n",
        "\n",
        "  # Renaming of the columns\n",
        "  df.columns = df.columns.str.lower()\n",
        "  df = df.rename(columns={'idplayer': 'player', 'idteam': 'team', 'idtournament': 'tournament'})\n",
        "\n",
        "  # An empty DataFrame for storing all players data\n",
        "  df_all_players = pd.DataFrame()\n",
        "\n",
        "  # The loop to go through each row in the players' DFs:\n",
        "  for index, row in df.iterrows():\n",
        "      team_id = row['team']\n",
        "      tournament = row['tournament']\n",
        "\n",
        "      # Getting the data from the ChGK API for each tournament\n",
        "      url = f'https://api.rating.chgk.net/tournaments/{tournament}/results?includeTeamMembers=1&includeMasksAndControversials=0&includeTeamFlags=0&includeRatingB=0'\n",
        "      df_tournaments = pd.read_json(url)\n",
        "      df_tournaments.columns = df_tournaments.columns.str.lower()\n",
        "\n",
        "      # Finding the row in df_tournaments where 'id' in 'team' column equals 'team' in df. Otherwise there will be all the players of the tournament\n",
        "      for team_num, tournament_row in df_tournaments.iterrows():\n",
        "          if tournament_row['team']['id'] == team_id:\n",
        "\n",
        "              # Getting the team members data and create a new DataFrame from it\n",
        "              team_data = df_tournaments.loc[team_num, 'teammembers']\n",
        "              df_teams = pd.DataFrame(team_data)\n",
        "              player_data = df_teams['player']\n",
        "              df_player = pd.DataFrame(player_data.tolist())\n",
        "\n",
        "              # Add the player dataframe to the overall dataframe\n",
        "              df_all_players = pd.concat([df_all_players, df_player])\n",
        "              break\n",
        "\n",
        "  # Reset the index of the final DataFrame\n",
        "  df_all_players.reset_index(drop=True, inplace=True)\n",
        "\n",
        "  # Getting the player name for the diagram\n",
        "  name = df_all_players[df_all_players['id'] == num][['name', 'surname']]\n",
        "  player_name = ' '.join(name.values[0])\n",
        "\n",
        "  # Dropping the patronymic column and the main player from the table\n",
        "  df_all_players = df_all_players.drop('patronymic', axis=1)\n",
        "  df_all_players = df_all_players[df_all_players['id'] != num] # DELETING THE PLAYER\n",
        "\n",
        "  # Create a new player column\n",
        "  df_all_players['player'] = df_all_players['name'] + ' ' + df_all_players['surname']\n",
        "  df_all_players = df_all_players.drop(['name', 'surname'], axis=1)\n",
        "\n",
        "  # The total number of the games for the main player (for the diagram)\n",
        "  last_row_index = df.index[-1]+1\n",
        "\n",
        "  return df_all_players, player_name, last_row_index"
      ]
    },
    {
      "cell_type": "code",
      "execution_count": 4,
      "metadata": {
        "id": "W-dSlwYbBKQt"
      },
      "outputs": [],
      "source": [
        "def chgk_diagram(df_all_players, player_name, last_row_index):\n",
        "\n",
        "  # Players' count in pivot table\n",
        "  df_players = df_all_players.copy()\n",
        "  df_players_cons = df_players.pivot_table(index='player',values='player', aggfunc='count').reset_index() # btw, do we need these 2 rows? Need to figure this out.\n",
        "  df_final = df_players_cons.groupby('player').sum().reset_index().sort_values('id', ascending=False)\n",
        "\n",
        "  df_final = df_final.head(10) # setting the limit to 10\n",
        "\n",
        "  # The diagram\n",
        "  plt.figure(figsize=(14, 7))\n",
        "  barplot = sns.barplot(x='id', y='player', data=df_final)\n",
        "\n",
        "  # Annotations on top of the bars\n",
        "  for p in barplot.patches:\n",
        "\n",
        "      width = p.get_width()\n",
        "      height = p.get_height()\n",
        "\n",
        "      percentage = f'{100 * width / last_row_index:.1f}%'\n",
        "      annotation = f'{int(width)} ({percentage})'\n",
        "\n",
        "      x = p.get_x() + width - 0.1\n",
        "      y = p.get_y() + height/2\n",
        "\n",
        "      plt.text(x, y, annotation, ha='right', va='center', fontsize=10)\n",
        "\n",
        "  plt.title(f'Люди, с которыми {player_name} играл(а) чаще всего', size=14)\n",
        "  plt.xlabel('Число игр', fontsize=10)\n",
        "  plt.ylabel('Игроки', fontsize=10)\n",
        "\n",
        "  plt.show()"
      ]
    },
    {
      "cell_type": "markdown",
      "metadata": {
        "id": "Bw2NxkP8k-s-"
      },
      "source": [
        "## 2. Visualisation"
      ]
    },
    {
      "cell_type": "code",
      "execution_count": 5,
      "metadata": {
        "id": "aahiqc92lB09"
      },
      "outputs": [],
      "source": [
        "# Set the theme\n",
        "sns.set_theme(style='darkgrid', palette='pastel')"
      ]
    },
    {
      "cell_type": "code",
      "execution_count": 6,
      "metadata": {
        "id": "5iwLpmnqDvmW"
      },
      "outputs": [],
      "source": [
        "# For the whole team:\n",
        "\n",
        "all_the_team = team_players(____) # PASTE THE TEAM ID HERE\n",
        "\n",
        "for i in all_the_team:\n",
        "  df_all_players, player_name, last_row_index = chgk_player(i)\n",
        "  chgk_diagram(df_all_players, player_name, last_row_index)\n",
        "  i += 1"
      ]
    },
    {
      "cell_type": "code",
      "execution_count": 7,
      "metadata": {
        "id": "AgoYkbdJOLrD"
      },
      "outputs": [],
      "source": [
        "# For a single player:\n",
        "\n",
        "df_all_players, player_name, last_row_index = chgk_player(___) # PASTE THE PLAYER ID HERE\n",
        "chgk_diagram(df_all_players, player_name, last_row_index)"
      ]
    }
  ],
  "metadata": {
    "colab": {
      "provenance": [],
      "authorship_tag": "ABX9TyMuManYNml6PcQSm5DYkxlj",
      "include_colab_link": true
    },
    "kernelspec": {
      "display_name": "Python 3",
      "name": "python3"
    },
    "language_info": {
      "name": "python"
    }
  },
  "nbformat": 4,
  "nbformat_minor": 0
}